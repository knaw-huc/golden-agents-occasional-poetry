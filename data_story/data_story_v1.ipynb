{
 "cells": [
  {
   "cell_type": "code",
   "execution_count": 5,
   "metadata": {},
   "outputs": [],
   "source": [
    "from SPARQLWrapper import SPARQLWrapper, JSON\n",
    "import pandas as pd\n",
    "import sparql_dataframe\n",
    "\n"
   ]
  },
  {
   "cell_type": "code",
   "execution_count": 2,
   "metadata": {},
   "outputs": [],
   "source": [
    "endpoint = \"https://api.druid.datalegend.net/datasets/LvanWissen/Occasional-Poetry/services/Occasional-Poetry/sparql\""
   ]
  },
  {
   "cell_type": "markdown",
   "metadata": {},
   "source": [
    "## Welke predicaten zitten er in de GGD database?"
   ]
  },
  {
   "cell_type": "code",
   "execution_count": 4,
   "metadata": {},
   "outputs": [
    {
     "name": "stdout",
     "output_type": "stream",
     "text": [
      "                                                    p   count\n",
      "0     http://www.w3.org/1999/02/22-rdf-syntax-ns#type  140050\n",
      "1          http://www.w3.org/2000/01/rdf-schema#label  109107\n",
      "2                              http://schema.org/name   79751\n",
      "3                        https://w3id.org/pnv#hasName   42978\n",
      "4                            http://schema.org/author   29820\n",
      "5                             http://schema.org/about   29424\n",
      "6                http://www.w3.org/2002/07/owl#sameAs   25128\n",
      "7                    https://w3id.org/pnv#literalName   16803\n",
      "8                    https://w3id.org/pnv#baseSurname   16735\n",
      "9                      https://w3id.org/pnv#givenName   14140\n",
      "10                           http://schema.org/gender   12903\n",
      "11                         http://schema.org/roleName   11249\n",
      "12                      http://schema.org/description   10246\n",
      "13   http://semanticweb.cs.vu.nl/2009/11/sem/roleType    9576\n",
      "14   http://www.w3.org/1999/02/22-rdf-syntax-ns#value    9576\n",
      "15   http://semanticweb.cs.vu.nl/2009/11/sem/hasActor    9576\n",
      "16                      http://schema.org/workExample    8582\n",
      "17                   http://schema.org/holdingArchive    8582\n",
      "18                     http://schema.org/itemLocation    8582\n",
      "19                    http://schema.org/exampleOfWork    8582\n",
      "20                            http://schema.org/value    7767\n",
      "21                       http://schema.org/identifier    7767\n",
      "22  http://semanticweb.cs.vu.nl/2009/11/sem/hasEar...    7316\n",
      "23  http://semanticweb.cs.vu.nl/2009/11/sem/hasLat...    7316\n",
      "24                       http://schema.org/inLanguage    7225\n",
      "25                      http://schema.org/publication    6906\n",
      "26                     http://schema.org/dateModified    6906\n",
      "27                 http://schema.org/mainEntityOfPage    6906\n",
      "28                        http://schema.org/subjectOf    6906\n",
      "29                       http://schema.org/mainEntity    6906\n",
      "30                      http://schema.org/dateCreated    6906\n",
      "31                         http://schema.org/isPartOf    6906\n",
      "32  http://data.bibliotheken.nl/def#bibliographicF...    6905\n",
      "33  http://data.bibliotheken.nl/def#stcnCollationa...    6903\n",
      "34                    http://schema.org/numberOfPages    5720\n",
      "35  http://semanticweb.cs.vu.nl/2009/11/sem/eventType    5718\n",
      "36  http://semanticweb.cs.vu.nl/2009/11/sem/hasTim...    5560\n",
      "37                 https://w3id.org/pnv#surnamePrefix    5129\n",
      "38   http://semanticweb.cs.vu.nl/2009/11/sem/hasPlace    4667\n",
      "39       http://www.w3.org/2000/01/rdf-schema#comment    4305\n",
      "40       http://purl.org/vocab/bio/0.1/followingEvent    4043\n",
      "41                      http://schema.org/publishedBy    3799\n",
      "42                         http://schema.org/location    3291\n",
      "43                        http://schema.org/birthDate    2496\n",
      "44                 http://schema.org/musicArrangement    2429\n",
      "45                           http://schema.org/lyrics    2429\n",
      "46       http://purl.org/vocab/bio/0.1/precedingEvent    1923\n",
      "47                        http://schema.org/startDate    1639\n",
      "48                        http://schema.org/deathDate    1507\n",
      "49                      https://w3id.org/pnv#initials    1052\n",
      "50                      https://w3id.org/pnv#patronym     533\n",
      "51                              http://schema.org/url     263\n"
     ]
    }
   ],
   "source": [
    "q = \"\"\"\n",
    "SELECT ?p (COUNT(?p) AS ?count)\n",
    "WHERE {\n",
    "    ?s ?p ?o.\n",
    "  }\n",
    "ORDER BY DESC(?count)\n",
    "\"\"\"\n",
    "\n",
    "df = sparql_dataframe.get(endpoint, q)\n",
    "\n",
    "print(df)\n",
    "\n"
   ]
  },
  {
   "cell_type": "markdown",
   "metadata": {},
   "source": [
    "## Hoeveel auteurs zitten er in de ggd?"
   ]
  },
  {
   "cell_type": "code",
   "execution_count": 6,
   "metadata": {},
   "outputs": [
    {
     "name": "stdout",
     "output_type": "stream",
     "text": [
      "   count\n",
      "0  14910\n"
     ]
    }
   ],
   "source": [
    "q = \"\"\"\n",
    "PREFIX schema: <http://schema.org/>   \n",
    "PREFIX w3: <http://www.w3.org/1999/02/22-rdf-syntax-ns#>\n",
    "PREFIX w3ID: <https://w3id.org/pnv#>\n",
    "\n",
    "SELECT (COUNT(?author) AS ?count)\n",
    "WHERE {\n",
    "  ?s schema:publication ?publication;\n",
    "  schema:author ?authorRole.\n",
    "  ?authorRole schema:author ?author \n",
    "  }\n",
    "ORDER BY DESC(?count)\n",
    "\"\"\"\n",
    "\n",
    "df = sparql_dataframe.get(endpoint, q)\n",
    "\n",
    "print(df)"
   ]
  },
  {
   "cell_type": "markdown",
   "metadata": {},
   "source": [
    "Of via een andere weg:"
   ]
  },
  {
   "cell_type": "code",
   "execution_count": 7,
   "metadata": {},
   "outputs": [
    {
     "name": "stdout",
     "output_type": "stream",
     "text": [
      "   count\n",
      "0  14910\n"
     ]
    }
   ],
   "source": [
    "q = \"\"\"\n",
    "PREFIX schema: <http://schema.org/>   \n",
    "PREFIX w3: <http://www.w3.org/1999/02/22-rdf-syntax-ns#>\n",
    "PREFIX w3ID: <https://w3id.org/pnv#>\n",
    "\n",
    "SELECT (COUNT(?author) AS ?count)\n",
    "WHERE {\n",
    "    ?book a schema:Book ;\n",
    "    schema:author ?authorRole .\n",
    "\n",
    "    ?authorRole a schema:Role ;\n",
    "    schema:author ?author .\n",
    "\n",
    "    ?author a schema:Person .\n",
    "    }\n",
    "ORDER BY DESC(?count)\n",
    "\"\"\"\n",
    "\n",
    "df = sparql_dataframe.get(endpoint, q)\n",
    "\n",
    "print(df)\n",
    "\n",
    "\n"
   ]
  },
  {
   "cell_type": "markdown",
   "metadata": {},
   "source": [
    "Maar daar kunnen best wat dubbeltellingen bij zitten. Laten we die eruithalen."
   ]
  },
  {
   "cell_type": "code",
   "execution_count": 8,
   "metadata": {},
   "outputs": [
    {
     "name": "stdout",
     "output_type": "stream",
     "text": [
      "   count\n",
      "0   6942\n"
     ]
    }
   ],
   "source": [
    "q = \"\"\"\n",
    "PREFIX schema: <http://schema.org/>   \n",
    "PREFIX w3: <http://www.w3.org/1999/02/22-rdf-syntax-ns#>\n",
    "PREFIX w3ID: <https://w3id.org/pnv#>\n",
    "\n",
    "SELECT (COUNT(DISTINCT ?ID) AS ?count)\n",
    "WHERE {\n",
    "  ?work schema:publication ?publication;\n",
    "  schema:author ?author.\n",
    "  ?author w3ID:hasName ?ID.  \n",
    "  }\n",
    "\"\"\"\n",
    "\n",
    "df = sparql_dataframe.get(endpoint, q)\n",
    "\n",
    "\n",
    "print(df)\n",
    "\n"
   ]
  },
  {
   "cell_type": "markdown",
   "metadata": {},
   "source": [
    "## Hoeveel van die auteurs hebben een link in de NTA?\n"
   ]
  },
  {
   "cell_type": "markdown",
   "metadata": {},
   "source": [
    "Dit is te onderscheiden doordat ze \"thes\" in hun URI hebben (\"thes\"  staat voor \"thesaurus\").\\\n",
    "\n",
    "<span style=\"color:red\">Ik kom hier op 2620 uit en dat is volgens mij een veel lager getal dan ik meen gehoord te hebben. Doe ik iets fout?</span>."
   ]
  },
  {
   "cell_type": "code",
   "execution_count": 10,
   "metadata": {},
   "outputs": [
    {
     "name": "stdout",
     "output_type": "stream",
     "text": [
      "   count\n",
      "0   2620\n"
     ]
    }
   ],
   "source": [
    "q = \"\"\"\n",
    "PREFIX schema: <http://schema.org/>   \n",
    "PREFIX w3: <http://www.w3.org/1999/02/22-rdf-syntax-ns#>\n",
    "PREFIX w3ID: <https://w3id.org/pnv#>\n",
    "\n",
    "\n",
    "SELECT  (COUNT(DISTINCT ?author) AS ?count)\n",
    "WHERE {\n",
    "  ?work schema:publication ?publication;\n",
    "  schema:author ?authorRole.\n",
    "  ?authorRole schema:author ?author.\n",
    "  FILTER(CONTAINS(STR(?author), 'thes'))\n",
    "  }\n",
    "\n",
    "\"\"\"\n",
    "\n",
    "df = sparql_dataframe.get(endpoint, q)\n",
    "\n",
    "print(df)\n",
    "\n"
   ]
  },
  {
   "cell_type": "markdown",
   "metadata": {},
   "source": [
    "Of via een andere route:"
   ]
  },
  {
   "cell_type": "code",
   "execution_count": 11,
   "metadata": {},
   "outputs": [
    {
     "name": "stdout",
     "output_type": "stream",
     "text": [
      "   count\n",
      "0   2620\n"
     ]
    }
   ],
   "source": [
    "q = \"\"\"\n",
    "PREFIX schema: <http://schema.org/>   \n",
    "PREFIX w3: <http://www.w3.org/1999/02/22-rdf-syntax-ns#>\n",
    "PREFIX w3ID: <https://w3id.org/pnv#>\n",
    "\n",
    "\n",
    "SELECT  (COUNT(DISTINCT ?author) AS ?count)\n",
    "WHERE {\n",
    "    ?book a schema:Book ;\n",
    "    schema:author ?authorRole .\n",
    "    ?authorRole a schema:Role ;\n",
    "    schema:author ?author .\n",
    "    ?author a schema:Person .\n",
    "    FILTER(CONTAINS(STR(?author), 'thes'))\n",
    "  }\n",
    "\n",
    "\"\"\"\n",
    "\n",
    "df = sparql_dataframe.get(endpoint, q)\n",
    "\n",
    "print(df)\n",
    "\n",
    "\n"
   ]
  },
  {
   "cell_type": "markdown",
   "metadata": {},
   "source": [
    "## Hoeveel van die auteurs hebben een UvA URI?"
   ]
  },
  {
   "cell_type": "code",
   "execution_count": 12,
   "metadata": {},
   "outputs": [
    {
     "name": "stdout",
     "output_type": "stream",
     "text": [
      "   count\n",
      "0   4257\n"
     ]
    }
   ],
   "source": [
    "q = \"\"\"\n",
    "PREFIX schema: <http://schema.org/>   \n",
    "PREFIX w3: <http://www.w3.org/1999/02/22-rdf-syntax-ns#>\n",
    "PREFIX w3ID: <https://w3id.org/pnv#>\n",
    "\n",
    "\n",
    "SELECT  (COUNT(DISTINCT ?author) AS ?count)\n",
    "WHERE {\n",
    "  ?work schema:publication ?publication;\n",
    "  schema:author ?authorRole.\n",
    "  ?authorRole schema:author ?author.\n",
    "  FILTER(CONTAINS(STR(?author), 'uva'))\n",
    "  }\n",
    "\n",
    "\"\"\"\n",
    "\n",
    "df = sparql_dataframe.get(endpoint, q)\n",
    "\n",
    "print(df)\n"
   ]
  },
  {
   "cell_type": "markdown",
   "metadata": {},
   "source": [
    "## En hoeveel via viaf?"
   ]
  },
  {
   "cell_type": "code",
   "execution_count": 13,
   "metadata": {},
   "outputs": [
    {
     "name": "stdout",
     "output_type": "stream",
     "text": [
      "   count\n",
      "0     65\n"
     ]
    }
   ],
   "source": [
    "q = \"\"\"\n",
    "PREFIX schema: <http://schema.org/>   \n",
    "PREFIX w3: <http://www.w3.org/1999/02/22-rdf-syntax-ns#>\n",
    "PREFIX w3ID: <https://w3id.org/pnv#>\n",
    "\n",
    "\n",
    "SELECT  (COUNT(DISTINCT ?author) AS ?count)\n",
    "WHERE {\n",
    "  ?work schema:publication ?publication;\n",
    "  schema:author ?authorRole.\n",
    "  ?authorRole schema:author ?author.\n",
    "  FILTER(CONTAINS(STR(?author), 'viaf'))\n",
    "  }\n",
    "\n",
    "\"\"\"\n",
    "\n",
    "df = sparql_dataframe.get(endpoint, q)\n",
    "\n",
    "print(df)\n",
    "\n"
   ]
  },
  {
   "cell_type": "markdown",
   "metadata": {},
   "source": [
    "## Hoe vaak is een auteur mannelijk of vrouwelijk?"
   ]
  },
  {
   "cell_type": "markdown",
   "metadata": {},
   "source": [
    "Laten we eerst kijken naar alle boeken die in de GGD zitten. Als een boek er dan twee keer in zit, worden de auteurs twee keer meegeteld."
   ]
  },
  {
   "cell_type": "code",
   "execution_count": 15,
   "metadata": {},
   "outputs": [
    {
     "name": "stdout",
     "output_type": "stream",
     "text": [
      "                     gender  count\n",
      "0    http://schema.org/Male  11071\n",
      "1  http://schema.org/Female    795\n"
     ]
    }
   ],
   "source": [
    "q = \"\"\"\n",
    "PREFIX schema: <http://schema.org/>   \n",
    "PREFIX w3: <http://www.w3.org/1999/02/22-rdf-syntax-ns#>\n",
    "PREFIX w3ID: <https://w3id.org/pnv#>\n",
    "\n",
    "SELECT ?gender (COUNT(?gender) as ?count)\n",
    "WHERE {\n",
    "  ?book a schema:Book;\n",
    "  schema:author ?authorRole.\n",
    "\n",
    "  ?authorRole schema:author ?author.\n",
    "  \n",
    "  ?author schema:gender ?gender.\n",
    "\n",
    "  }\n",
    "ORDER BY DESC(?count)\n",
    "\"\"\"\n",
    "\n",
    "df_gender = sparql_dataframe.get(endpoint, q)\n",
    "\n",
    "print(df_gender)\n",
    "\n"
   ]
  },
  {
   "cell_type": "markdown",
   "metadata": {},
   "source": [
    "Hoe ziet het eruit als je naar unieke werken kijkt?\n",
    "\n",
    "<span style=\"color:red\">Hoe kan het dat ik hier op een hoger aantal uitkom?</span>."
   ]
  },
  {
   "cell_type": "code",
   "execution_count": 16,
   "metadata": {},
   "outputs": [
    {
     "name": "stdout",
     "output_type": "stream",
     "text": [
      "                     gender  count\n",
      "0    http://schema.org/Male  15334\n",
      "1  http://schema.org/Female   1017\n"
     ]
    }
   ],
   "source": [
    "q = \"\"\"\n",
    "PREFIX schema: <http://schema.org/>   \n",
    "PREFIX w3: <http://www.w3.org/1999/02/22-rdf-syntax-ns#>\n",
    "PREFIX w3ID: <https://w3id.org/pnv#>\n",
    "\n",
    "SELECT ?gender (COUNT(?gender) as ?count)\n",
    "WHERE {\n",
    "  ?copy schema:exampleOfWork ?work.\n",
    "  \n",
    "  ?work schema:author ?authorRole.\n",
    "\n",
    "  ?authorRole schema:author ?author.\n",
    "\n",
    "  ?author schema:gender ?gender.\n",
    "\n",
    "  }\n",
    "ORDER BY DESC(?count)\n",
    "\"\"\"\n",
    "\n",
    "df_gender = sparql_dataframe.get(endpoint, q)\n",
    "\n",
    "print(df_gender)\n",
    "\n"
   ]
  },
  {
   "cell_type": "markdown",
   "metadata": {},
   "source": [
    "Nu kijken naar unieke auteurs."
   ]
  },
  {
   "cell_type": "code",
   "execution_count": 17,
   "metadata": {},
   "outputs": [
    {
     "name": "stdout",
     "output_type": "stream",
     "text": [
      "                                              author                  gender\n",
      "0     http://data.bibliotheken.nl/id/thes/p068191960  http://schema.org/Male\n",
      "1     http://data.bibliotheken.nl/id/thes/p068192983  http://schema.org/Male\n",
      "2     http://data.bibliotheken.nl/id/thes/p06824357X  http://schema.org/Male\n",
      "3     http://data.bibliotheken.nl/id/thes/p068381700  http://schema.org/Male\n",
      "4     http://data.bibliotheken.nl/id/thes/p068417705  http://schema.org/Male\n",
      "...                                              ...                     ...\n",
      "4227  http://data.bibliotheken.nl/id/thes/p205474756  http://schema.org/Male\n",
      "4228  http://data.bibliotheken.nl/id/thes/p230293514  http://schema.org/Male\n",
      "4229  http://data.bibliotheken.nl/id/thes/p24260840X  http://schema.org/Male\n",
      "4230  http://data.bibliotheken.nl/id/thes/p31517580X  http://schema.org/Male\n",
      "4231  http://data.bibliotheken.nl/id/thes/p364396407  http://schema.org/Male\n",
      "\n",
      "[4232 rows x 2 columns]\n"
     ]
    }
   ],
   "source": [
    "q = \"\"\"\n",
    "PREFIX schema: <http://schema.org/>   \n",
    "PREFIX w3: <http://www.w3.org/1999/02/22-rdf-syntax-ns#>\n",
    "PREFIX w3ID: <https://w3id.org/pnv#>\n",
    "\n",
    "SELECT DISTINCT ?author ?gender\n",
    "WHERE {\n",
    "  ?book a schema:Book;\n",
    "  schema:author ?authorRole.\n",
    "\n",
    "  ?authorRole schema:author ?author.\n",
    "  \n",
    "  ?author schema:gender ?gender.\n",
    "\n",
    "  }\n",
    "ORDER BY DESC(?count)\n",
    "\"\"\"\n",
    "\n",
    "df_gender = sparql_dataframe.get(endpoint, q)\n",
    "\n",
    "print(df_gender)\n"
   ]
  },
  {
   "cell_type": "code",
   "execution_count": 18,
   "metadata": {},
   "outputs": [
    {
     "name": "stdout",
     "output_type": "stream",
     "text": [
      "gender\n",
      "http://schema.org/Female     493\n",
      "http://schema.org/Male      3739\n",
      "dtype: int64\n"
     ]
    }
   ],
   "source": [
    "gender_count = df_gender.groupby(['gender']).size()\n",
    "print(gender_count)"
   ]
  },
  {
   "cell_type": "markdown",
   "metadata": {},
   "source": [
    "In de hele ggd zitten dus 493 unieke vrouwelijke auteurs en 3739 unieke mannelijke auteurs."
   ]
  },
  {
   "cell_type": "markdown",
   "metadata": {},
   "source": [
    "## Mannen en vrouwen in de NTA"
   ]
  },
  {
   "cell_type": "markdown",
   "metadata": {},
   "source": [
    "Dus hoe zit die verdeling in de NTA?"
   ]
  },
  {
   "cell_type": "code",
   "execution_count": 41,
   "metadata": {},
   "outputs": [
    {
     "name": "stdout",
     "output_type": "stream",
     "text": [
      "                                              author                  gender\n",
      "0     http://data.bibliotheken.nl/id/thes/p068191960  http://schema.org/Male\n",
      "1     http://data.bibliotheken.nl/id/thes/p068192983  http://schema.org/Male\n",
      "2     http://data.bibliotheken.nl/id/thes/p06824357X  http://schema.org/Male\n",
      "3     http://data.bibliotheken.nl/id/thes/p068381700  http://schema.org/Male\n",
      "4     http://data.bibliotheken.nl/id/thes/p068417705  http://schema.org/Male\n",
      "...                                              ...                     ...\n",
      "2285  http://data.bibliotheken.nl/id/thes/p205474756  http://schema.org/Male\n",
      "2286  http://data.bibliotheken.nl/id/thes/p230293514  http://schema.org/Male\n",
      "2287  http://data.bibliotheken.nl/id/thes/p24260840X  http://schema.org/Male\n",
      "2288  http://data.bibliotheken.nl/id/thes/p31517580X  http://schema.org/Male\n",
      "2289  http://data.bibliotheken.nl/id/thes/p364396407  http://schema.org/Male\n",
      "\n",
      "[2290 rows x 2 columns]\n"
     ]
    }
   ],
   "source": [
    "q = \"\"\"\n",
    "PREFIX schema: <http://schema.org/>   \n",
    "PREFIX w3: <http://www.w3.org/1999/02/22-rdf-syntax-ns#>\n",
    "PREFIX w3ID: <https://w3id.org/pnv#>\n",
    "\n",
    "SELECT DISTINCT ?author ?gender\n",
    "WHERE {\n",
    "  ?book a schema:Book;\n",
    "  schema:author ?authorRole.\n",
    "\n",
    "  ?authorRole schema:author ?author.\n",
    "  \n",
    "  ?author schema:gender ?gender.\n",
    "\n",
    "  FILTER(CONTAINS(STR(?author), 'thes'))\n",
    "\n",
    "  }\n",
    "ORDER BY DESC(?count)\n",
    "\"\"\"\n",
    "\n",
    "df_gender = sparql_dataframe.get(endpoint, q)\n",
    "\n",
    "print(df_gender)"
   ]
  },
  {
   "cell_type": "code",
   "execution_count": 43,
   "metadata": {},
   "outputs": [
    {
     "name": "stdout",
     "output_type": "stream",
     "text": [
      "gender\n",
      "http://schema.org/Female     119\n",
      "http://schema.org/Male      2171\n",
      "dtype: int64\n"
     ]
    }
   ],
   "source": [
    "gender_count = df_gender.groupby(['gender']).size()\n",
    "print(gender_count)"
   ]
  },
  {
   "cell_type": "markdown",
   "metadata": {},
   "source": [
    "In de NTA zitten dus 119 vrouwelijke auteurs, en 2171 mannelijke auteurs. Voor de hele ggd geldt: 493 vrouwen en 3739 mannen."
   ]
  },
  {
   "cell_type": "code",
   "execution_count": 51,
   "metadata": {},
   "outputs": [
    {
     "name": "stdout",
     "output_type": "stream",
     "text": [
      "5 %\n",
      "12 %\n"
     ]
    }
   ],
   "source": [
    "print(round(119/(2171+119)*100), \"%\")\n",
    "print(round(493/(493+3739)*100), \"%\")"
   ]
  },
  {
   "cell_type": "code",
   "execution_count": 48,
   "metadata": {},
   "outputs": [
    {
     "name": "stdout",
     "output_type": "stream",
     "text": [
      "                                                 p  count\n",
      "0                           http://schema.org/name    824\n",
      "1       http://www.w3.org/2000/01/rdf-schema#label    824\n",
      "2                     https://w3id.org/pnv#hasName    795\n",
      "3  http://www.w3.org/1999/02/22-rdf-syntax-ns#type    795\n",
      "4                         http://schema.org/gender    795\n",
      "5                      http://schema.org/birthDate    334\n",
      "6             http://www.w3.org/2002/07/owl#sameAs    295\n",
      "7                      http://schema.org/deathDate    282\n"
     ]
    }
   ],
   "source": [
    "\"\"\"\n",
    "Under construction\n",
    "\"\"\"\n",
    "\n",
    "q = \"\"\"\n",
    "PREFIX schema: <http://schema.org/>   \n",
    "PREFIX w3: <http://www.w3.org/1999/02/22-rdf-syntax-ns#>\n",
    "PREFIX w3ID: <https://w3id.org/pnv#>\n",
    "\n",
    "SELECT ?p (COUNT(?p) as ?count)\n",
    "WHERE {\n",
    "  ?book a schema:Book;\n",
    "  schema:author ?authorRole.\n",
    "\n",
    "  ?authorRole schema:author ?author.\n",
    "\n",
    "  ?author schema:gender schema:Female.\n",
    "  \n",
    "  ?author ?p ?o.\n",
    "\n",
    "  }\n",
    "ORDER BY DESC(?count)\n",
    "\"\"\"\n",
    "\n",
    "df_gender = sparql_dataframe.get(endpoint, q)\n",
    "\n",
    "print(df_gender)"
   ]
  },
  {
   "cell_type": "markdown",
   "metadata": {},
   "source": [
    "## Volledigheid van ggd"
   ]
  },
  {
   "cell_type": "markdown",
   "metadata": {},
   "source": []
  },
  {
   "cell_type": "code",
   "execution_count": 19,
   "metadata": {},
   "outputs": [
    {
     "name": "stdout",
     "output_type": "stream",
     "text": [
      "                                                 work  count\n",
      "0     http://data.bibliotheken.nl/id/dataset/ggd/4047      9\n",
      "1     http://data.bibliotheken.nl/id/dataset/ggd/2690      6\n",
      "2     http://data.bibliotheken.nl/id/dataset/ggd/3104      6\n",
      "3     http://data.bibliotheken.nl/id/dataset/ggd/5682      6\n",
      "4     http://data.bibliotheken.nl/id/dataset/ggd/5660      6\n",
      "...                                               ...    ...\n",
      "6901   http://data.bibliotheken.nl/id/dataset/ggd/845      1\n",
      "6902   http://data.bibliotheken.nl/id/dataset/ggd/889      1\n",
      "6903   http://data.bibliotheken.nl/id/dataset/ggd/892      1\n",
      "6904   http://data.bibliotheken.nl/id/dataset/ggd/908      1\n",
      "6905   http://data.bibliotheken.nl/id/dataset/ggd/913      1\n",
      "\n",
      "[6906 rows x 2 columns]\n"
     ]
    }
   ],
   "source": [
    "q = \"\"\"\n",
    "PREFIX sc: <http://purl.org/science/owl/sciencecommons/>\n",
    "PREFIX schema: <http://schema.org/>\n",
    "PREFIX xsd: <http://www.w3.org/2001/XMLSchema#>\n",
    "PREFIX sem: <http://semanticweb.cs.vu.nl/2009/11/sem/>\n",
    "PREFIX rdf: <http://www.w3.org/1999/02/22-rdf-syntax-ns#>\n",
    "PREFIX rdfs: <http://www.w3.org/2000/01/rdf-schema#>\n",
    "\n",
    "SELECT ?work (COUNT(?work) as ?count)\n",
    " WHERE {\n",
    "  ?book a schema:Book;\n",
    "  schema:exampleOfWork ?work.\n",
    "} \n",
    "ORDER BY DESC(?count)\n",
    "\"\"\"\n",
    "\n",
    "df = sparql_dataframe.get(endpoint, q)\n",
    "\n",
    "print(df)\n",
    "\n",
    "\n"
   ]
  },
  {
   "cell_type": "code",
   "execution_count": 20,
   "metadata": {},
   "outputs": [
    {
     "name": "stdout",
     "output_type": "stream",
     "text": [
      "{'f1': 5620, 'f2': 1003, 'f3': 213, 'f4': 43, 'S': 6906, 'n': 8582}\n"
     ]
    }
   ],
   "source": [
    "from copia.utils import basic_stats\n",
    "\n",
    "abundance = df['count'].to_numpy()\n",
    "print(basic_stats(abundance))"
   ]
  },
  {
   "cell_type": "code",
   "execution_count": 22,
   "metadata": {},
   "outputs": [
    {
     "data": {
      "text/plain": [
       "<AxesSubplot:title={'center':'Distribution of sightings over species'}, xlabel='Species', ylabel='Number of sightings'>"
      ]
     },
     "execution_count": 22,
     "metadata": {},
     "output_type": "execute_result"
    },
    {
     "data": {
      "image/png": "[encoded data removed]",
      "text/plain": [
       "<Figure size 576x396 with 1 Axes>"
      ]
     },
     "metadata": {},
     "output_type": "display_data"
    },
    {
     "data": {
      "image/png": "[encoded data removed]",
      "text/plain": [
       "<Figure size 576x396 with 2 Axes>"
      ]
     },
     "metadata": {},
     "output_type": "display_data"
    }
   ],
   "source": [
    "from copia.plot import abundance_counts\n",
    "abundance_counts(abundance)\n",
    "abundance_counts(abundance, trendline=True)"
   ]
  },
  {
   "cell_type": "code",
   "execution_count": 32,
   "metadata": {},
   "outputs": [
    {
     "name": "stderr",
     "output_type": "stream",
     "text": [
      "100%|██████████| 1000/1000 [00:00<00:00, 1287.07it/s]\n",
      "100%|██████████| 1000/1000 [00:00<00:00, 1252.92it/s]\n",
      "100%|██████████| 1000/1000 [00:02<00:00, 430.61it/s]\n",
      "100%|██████████| 1000/1000 [00:00<00:00, 1242.48it/s]"
     ]
    },
    {
     "name": "stdout",
     "output_type": "stream",
     "text": [
      "             richness    low   high\n",
      "estimator                          \n",
      "chao1           22649  21631  23666\n",
      "ichao1          26532  25404  27783\n",
      "ace             57978  51003  64946\n",
      "jackknife       26911  25867  27954\n",
      "egghe_proot     22900  21832  23966\n"
     ]
    },
    {
     "name": "stderr",
     "output_type": "stream",
     "text": [
      "\n"
     ]
    }
   ],
   "source": [
    "from copia.richness import *\n",
    "lst = []\n",
    "for m in ('chao1', 'ichao1', 'ace', 'jackknife', 'egghe_proot'):\n",
    "    estimate = diversity(abundance, method=m, CI = True)\n",
    "    m_lst = [m, estimate['richness'], estimate['lci'], estimate['uci'] ]\n",
    "    lst.append(m_lst)\n",
    "\n",
    "df = pd.DataFrame(lst, columns = ['estimator','richness', 'low', 'high'])\n",
    "df = df.set_index('estimator')\n",
    "df = df.astype(int)\n",
    "print(df)"
   ]
  }
 ],
 "metadata": {
  "interpreter": {
   "hash": "916dbcbb3f70747c44a77c7bcd40155683ae19c65e1c03b4aa3499c5328201f1"
  },
  "kernelspec": {
   "display_name": "Python 3.8.5 64-bit",
   "language": "python",
   "name": "python3"
  },
  "language_info": {
   "codemirror_mode": {
    "name": "ipython",
    "version": 3
   },
   "file_extension": ".py",
   "mimetype": "text/x-python",
   "name": "python",
   "nbconvert_exporter": "python",
   "pygments_lexer": "ipython3",
   "version": "3.8.10"
  },
  "orig_nbformat": 4
 },
 "nbformat": 4,
 "nbformat_minor": 2
}
